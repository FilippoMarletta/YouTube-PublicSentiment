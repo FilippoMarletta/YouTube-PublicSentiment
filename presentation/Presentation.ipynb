{
 "cells": [
  {
   "cell_type": "markdown",
   "id": "e728b20e",
   "metadata": {
    "slideshow": {
     "slide_type": "slide"
    }
   },
   "source": [
    "\n",
    "<center>\n",
    "    <img src=\"images/logo-2-1024.png\">\n",
    "</center>\n"
   ]
  },
  {
   "cell_type": "markdown",
   "id": "047dd3e8",
   "metadata": {
    "slideshow": {
     "slide_type": "slide"
    }
   },
   "source": [
    "# Cosa è YouTube-PublicSentiment"
   ]
  },
  {
   "cell_type": "markdown",
   "id": "c27929a5",
   "metadata": {
    "slideshow": {
     "slide_type": "subslide"
    }
   },
   "source": [
    "**YouTube-PublicSentiment** è uno strumento per effettuare sentiment analysis, entity sentiment analysis e emotion recognition sui commenti lasciati dal pubblico sotto un determinato video sulla piattaforma YouTube."
   ]
  },
  {
   "cell_type": "markdown",
   "id": "62492ff2",
   "metadata": {
    "slideshow": {
     "slide_type": "subslide"
    }
   },
   "source": [
    "## Chi è il Target\n",
    "**YouTube-PublicSentiment** è pensato per un pubblico ampio, inclusi content creator, aziende e qualsiasi utente curioso desideroso di comprendere il sentimento del pubblico verso i video su YouTube. Non è necessario essere il proprietario del video per utilizzare lo strumento."
   ]
  },
  {
   "cell_type": "markdown",
   "id": "bdf0eb38",
   "metadata": {
    "slideshow": {
     "slide_type": "subslide"
    }
   },
   "source": [
    "## Come é nato il progetto\n",
    "L'idea di realizzare questo strumento è nata dalla curiosità personale di conoscere il sentimento del pubblico nei confronti degli argomenti trattati in un video e di tutto ciò che lo circonda, e di come questo possa variare nel tempo, in seguito a eventi specifici avvenuti sia all'interno che all'esterno della piattaforma YouTube o per nessun motivo apperente."
   ]
  },
  {
   "cell_type": "markdown",
   "id": "aeae69c0",
   "metadata": {
    "slideshow": {
     "slide_type": "fragment"
    }
   },
   "source": [
    "I commenti sotto i video spesso rivelano una vasta gamma di opinioni, emozioni e reazioni, offrendo una comprensione più profonda della percezione del pubblico verso il contenuto del video e tutto ciò che lo circonda, comprese persone, organizzazioni, prodotti e beni di consumo."
   ]
  },
  {
   "cell_type": "markdown",
   "id": "38ef9e85",
   "metadata": {
    "slideshow": {
     "slide_type": "subslide"
    }
   },
   "source": [
    "Leggere solo alcuni commenti a campione potrebbe non essere rappresentativo del reale sentimento del pubblico, soprattutto considerato l'elevato numero di commenti che alcuni video possono ricevere."
   ]
  },
  {
   "cell_type": "markdown",
   "id": "8dd68e26",
   "metadata": {
    "slideshow": {
     "slide_type": "fragment"
    }
   },
   "source": [
    "Quella che inizialmente era semplice curiosità può rappresentare un'utilità significativa per i content creator e le aziende. Un'analisi dettagliata dei commenti può fornire ai content creator preziose informazioni per migliorare i loro contenuti e capire meglio il proprio pubblico, così come può essere utilizzata da aziende per comprendere il sentimento nei confronti dei loro prodotti e/o servizi."
   ]
  },
  {
   "cell_type": "markdown",
   "id": "27e4cdc6",
   "metadata": {
    "slideshow": {
     "slide_type": "slide"
    }
   },
   "source": [
    "## Come funziona?\n",
    "YouTube-PublicSentiment monitora la sezione commenti di un video di cui è stato fornito in input il link ed effettua la sentiment analysis e l'entity analysis utilizzando Google Cloud Natural Language AI. Le informazione ottenute comprendono:\n",
    "\n",
    "\n",
    "    "
   ]
  },
  {
   "cell_type": "markdown",
   "id": "d1eee747",
   "metadata": {
    "slideshow": {
     "slide_type": "fragment"
    }
   },
   "source": [
    "- per commento:\n",
    "    - `sentiment_score`: numero compreso tra **\\[ -1.0 , 1.0 \\]** \n",
    "    - `sentiment_magnitude`: numero compreso tra **\\[ 0 , +inf )**, indica quanto contenuto emotivo è presente all'interno del commento"
   ]
  },
  {
   "cell_type": "markdown",
   "id": "daaf9234",
   "metadata": {
    "slideshow": {
     "slide_type": "subslide"
    }
   },
   "source": [
    "- per singola entita estratta dal commento:\n",
    "    - `entity_name`: nome rappresentativo per l'entità\n",
    "    - `entity_type`: tipo di entità\n",
    "    - `entity_salience`: numero compreso tra **\\[ 0 , 1.0 \\]**, indica quanto è importante l'entità all'interno del commento\n",
    "    - `sentiment_score`: numero compreso tra **\\[ -1.0 , 1.0 \\]** \n",
    "    - `sentiment_magnitude`: numero compreso tra **\\[ 0 , +inf )**, indica quanto contenuto emotivo è presente all'interno dell'entità"
   ]
  },
  {
   "cell_type": "markdown",
   "id": "29018272",
   "metadata": {
    "slideshow": {
     "slide_type": "subslide"
    }
   },
   "source": [
    "Successivamente, il testo del commento viene passato al modello di machine learning preaddestrato di **Hugging Face**: `bhadresh-savani/bert-base-go-emotion`. Questo modello è stato addestrato sul dataset `google-research-datasets/go_emotions`."
   ]
  },
  {
   "cell_type": "markdown",
   "id": "46158444",
   "metadata": {
    "slideshow": {
     "slide_type": "fragment"
    }
   },
   "source": [
    "Il dataset go_emotions contiene 58.000 commenti di Reddit attentamente curati e etichettati per 27 categorie di emozioni, oltre a una categoria neutra. Questo rende il modello altamente efficace nel rilevare una vasta gamma di emozioni nei testi."
   ]
  },
  {
   "cell_type": "markdown",
   "id": "01ff7be1",
   "metadata": {
    "slideshow": {
     "slide_type": "fragment"
    }
   },
   "source": [
    "Per ogni emozione, avremo quindi uno score numerico float che indica la percentuale rilevata di ciascuna di esse.\n",
    "Questo consente di ottenere una valutazione dettagliata delle emozioni espresse nei commenti, migliorando la comprensione delle reazioni emotive degli utenti."
   ]
  },
  {
   "cell_type": "markdown",
   "id": "cf2955fc",
   "metadata": {
    "slideshow": {
     "slide_type": "slide"
    }
   },
   "source": [
    "# Dimostrazione Live!"
   ]
  },
  {
   "cell_type": "markdown",
   "id": "002bf909",
   "metadata": {
    "slideshow": {
     "slide_type": "slide"
    }
   },
   "source": [
    "## Dashboard\n",
    "\n",
    "Analisi del seguente video: \n",
    "- <a href=\"https://www.youtube.com/watch?v=AXlL_IzEN8c\">Trump | Assassination Attempt Minute by Minute: ABC News  Special</a>"
   ]
  },
  {
   "cell_type": "markdown",
   "id": "1eb583ce",
   "metadata": {
    "slideshow": {
     "slide_type": "subslide"
    }
   },
   "source": [
    "<img src=\"images/Dashboard-r1.png\">"
   ]
  },
  {
   "cell_type": "markdown",
   "id": "4e52abc0",
   "metadata": {
    "slideshow": {
     "slide_type": "subslide"
    }
   },
   "source": [
    "<img src=\"images/Dashboard-r2.png\">"
   ]
  },
  {
   "cell_type": "markdown",
   "id": "7797eaff",
   "metadata": {
    "slideshow": {
     "slide_type": "subslide"
    }
   },
   "source": [
    "<img src=\"images/Dashboard-r3.png\">"
   ]
  },
  {
   "cell_type": "markdown",
   "id": "44c4922f",
   "metadata": {
    "slideshow": {
     "slide_type": "subslide"
    }
   },
   "source": [
    "<img src=\"images/Dashboard-r4.png\">"
   ]
  },
  {
   "cell_type": "markdown",
   "id": "86180611",
   "metadata": {
    "slideshow": {
     "slide_type": "subslide"
    }
   },
   "source": [
    "<img src=\"images/Dashboard-r5.png\">"
   ]
  },
  {
   "cell_type": "markdown",
   "id": "4db2968d",
   "metadata": {
    "slideshow": {
     "slide_type": "slide"
    }
   },
   "source": [
    "## API utilizzate\n",
    "- <a href=\"https://developers.google.com/youtube/v3\">YouTube Data API</a> \n",
    "- <a href=\"https://cloud.google.com/natural-language?hl=it\">Google Cloud Natural Language API</a>"
   ]
  },
  {
   "cell_type": "markdown",
   "id": "68b32713",
   "metadata": {
    "slideshow": {
     "slide_type": "subslide"
    }
   },
   "source": [
    "<center>\n",
    "  <img src=\"images/googleApiMeme.png\" width=\"450\">\n",
    "</center>"
   ]
  },
  {
   "cell_type": "markdown",
   "id": "061157c8",
   "metadata": {
    "slideshow": {
     "slide_type": "slide"
    }
   },
   "source": [
    "## Architettura"
   ]
  },
  {
   "cell_type": "markdown",
   "id": "4c6cda97",
   "metadata": {
    "slideshow": {
     "slide_type": "subslide"
    }
   },
   "source": [
    "###  Pipeline complessiva\n",
    "<br>\n",
    "\n",
    "<center>\n",
    "    <img src=\"images/pipeline.svg\" width=\"700\">\n",
    "</center>"
   ]
  },
  {
   "cell_type": "markdown",
   "id": "f3bd7322",
   "metadata": {
    "slideshow": {
     "slide_type": "subslide"
    }
   },
   "source": [
    "## Breakdown delle singole componenti"
   ]
  },
  {
   "cell_type": "markdown",
   "id": "6d33d849",
   "metadata": {
    "slideshow": {
     "slide_type": "subslide"
    }
   },
   "source": [
    "<center>\n",
    "    <img src=\"images/Docker.png\" width=\"15%\">\n",
    "</center>\n",
    "\n",
    "Per la containerizzazione di ciascun servizio:\n",
    "\n",
    "  - Ambienti coerenti e isolati attraverso la containerizzazione\n",
    "  - Distribuzione, scalabilità e gestione delle applicazioni semplificate\n",
    "  - Utilizzo leggero ed efficiente delle risorse\n",
    "  - Un modo semplice per gestire applicazioni multi-container attraverso Docker Compose"
   ]
  },
  {
   "cell_type": "markdown",
   "id": "bf592925",
   "metadata": {
    "slideshow": {
     "slide_type": "subslide"
    }
   },
   "source": [
    "### Python Script\n",
    "\n",
    "I seguenti passaggi sono ripetuti con una frequenza di 30 secondi per evitare la formazione di stream batch troppo grandi su Spark:\n",
    "\n",
    "   - Effettua la chiamata all'API di YouTube per recuperare i commenti del video da analizzare.\n",
    "   - Processa i commenti, rimuovendo eventuali tag HTML dal testo e selezionando solo i campi utili.\n",
    "   - Invia i dati a Logstash per farli avanzare lungo la pipeline.\n"
   ]
  },
  {
   "cell_type": "markdown",
   "id": "f23f1060",
   "metadata": {
    "slideshow": {
     "slide_type": "subslide"
    }
   },
   "source": [
    "<center>\n",
    "    <img src=\"images/LogstashFullLogo.png\" width=\"30%\"> \n",
    "</center>\n",
    "\n",
    "Per la parte di Data ingestion:\n",
    "\n",
    "   - Si integra perfettamente con Elasticsearch e Kibana.\n",
    "   - Ha un'ottima usabilità.\n",
    "   - Gestisce in modo efficiente grandi volumi di dati."
   ]
  },
  {
   "cell_type": "markdown",
   "id": "b1cdde67",
   "metadata": {
    "slideshow": {
     "slide_type": "subslide"
    }
   },
   "source": [
    "<center>\n",
    "    <img src=\"images/Kafka.png\" width=\"20%\">\n",
    "</center>\n",
    "\n",
    "In KRaft Mode per la parte di Data Streaming:\n",
    "\n",
    "   - Capace di gestire grandi volumi di dati con bassa latenza.\n",
    "   - Non richiede ZooKeeper, con ridotta complessità e overhead operativi.\n",
    "   - Assicura un migliore supporto per future release, allineato alla roadmap di Kafka.\n",
    "   - Memorizza i dati in un unico topic: youtube-comments."
   ]
  },
  {
   "cell_type": "markdown",
   "id": "2430a691",
   "metadata": {
    "slideshow": {
     "slide_type": "subslide"
    }
   },
   "source": [
    "          \n",
    "<div style=\"display: flex; justify-content: center; align-items: center;\">\n",
    "    <img src=\"images/Spark.png\" alt=\"Immagine 1\" style=\"max-width: 25%; height: auto;\">\n",
    "    <img src=\"images/GoogleCloud.png\" alt=\"Immagine 2\" style=\"max-width: 25%; height: auto;\">\n",
    "    <img src=\"images/HuggingFace.png\" alt=\"Immagine 3\" style=\"max-width: 25%; height: auto;\">\n",
    "</div>\n",
    "\n",
    "\n",
    "### Spark con Google Cloud Natural Language AI e Hugging Face\n",
    "\n",
    "   - Utilizza Google Cloud Natural Language API per eseguire la sentiment analysis e l'entity analysis.\n",
    "   - Applica il modello BERT preaddestrato.\n",
    "   - Espande la lista di entità.\n",
    "   - Scrive in due indici separati per distinguere tra dati con e senza duplicati."
   ]
  },
  {
   "cell_type": "markdown",
   "id": "4c8ee0da",
   "metadata": {
    "slideshow": {
     "slide_type": "subslide"
    }
   },
   "source": [
    "<center>\n",
    "    <img src=\"images/ElasticsearchFullLogo.svg\" width=\"30%\">\n",
    "</center>\n",
    "\n",
    "Per la parte di Data Indexing:\n",
    "\n",
    "   - Offre funzionalità di ricerca e analisi in tempo reale veloci e potenti.\n",
    "   - Integrazione completa con Kibana nel ELK Stack.\n",
    "   - Gestisce facilmente grandi volumi di dati.\n",
    "   - Riceve dati da Apache Spark in due indici distinti: youtubecomments e youtubecomments_without_duplicates."
   ]
  },
  {
   "cell_type": "markdown",
   "id": "f6b4f0fb",
   "metadata": {
    "slideshow": {
     "slide_type": "subslide"
    }
   },
   "source": [
    "<center>\n",
    "    <img src=\"images/Kibana.png\" width=\"20%\">\n",
    "</center>\n",
    "\n",
    "Per la parte di Data Visualization:\n",
    "\n",
    "   - Integrazione completa con Elasticsearch nel ELK Stack.\n",
    "   - Interfaccia utente user-friendly.\n",
    "   - Grafici intuitivi e moderni."
   ]
  },
  {
   "cell_type": "markdown",
   "id": "93084d56",
   "metadata": {
    "slideshow": {
     "slide_type": "slide"
    }
   },
   "source": [
    "## Possibili miglioramenti\n",
    "\n",
    "- Aggiunta di un'interfaccia grafica per facilitare l'inserimento del link del video di cui analizzare i commenti.\n",
    "- Analisi delle risposte ai commenti, non solo dei commenti top-level.\n",
    "- Transizione a Language.v2 per supportare l'analisi multilingua quando il servizio di extract_entity_sentiment verrà incluso.\n",
    "- Implementazione di un modello di emotion recognition con un maggiore supporto multilingua."
   ]
  },
  {
   "cell_type": "markdown",
   "id": "14962b85",
   "metadata": {
    "slideshow": {
     "slide_type": "slide"
    }
   },
   "source": [
    "# Grazie per l'attenzione"
   ]
  }
 ],
 "metadata": {
  "celltoolbar": "Slideshow",
  "kernelspec": {
   "display_name": "Python 3 (ipykernel)",
   "language": "python",
   "name": "python3"
  },
  "language_info": {
   "codemirror_mode": {
    "name": "ipython",
    "version": 3
   },
   "file_extension": ".py",
   "mimetype": "text/x-python",
   "name": "python",
   "nbconvert_exporter": "python",
   "pygments_lexer": "ipython3",
   "version": "3.10.12"
  }
 },
 "nbformat": 4,
 "nbformat_minor": 5
}
